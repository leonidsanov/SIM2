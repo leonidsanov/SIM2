{
  "nbformat": 4,
  "nbformat_minor": 0,
  "metadata": {
    "colab": {
      "provenance": [],
      "toc_visible": true,
      "mount_file_id": "1e9VA6zkGUWiAl1T7QvQMi0pyp0fGiJud",
      "authorship_tag": "ABX9TyOJN91/HtHspMz42GpraF15",
      "include_colab_link": true
    },
    "kernelspec": {
      "name": "python3",
      "display_name": "Python 3"
    },
    "language_info": {
      "name": "python"
    }
  },
  "cells": [
    {
      "cell_type": "markdown",
      "metadata": {
        "id": "view-in-github",
        "colab_type": "text"
      },
      "source": [
        "<a href=\"https://colab.research.google.com/github/leonidsanov/SIM2/blob/main/SiM2_28_08_2022.ipynb\" target=\"_parent\"><img src=\"https://colab.research.google.com/assets/colab-badge.svg\" alt=\"Open In Colab\"/></a>"
      ]
    },
    {
      "cell_type": "markdown",
      "source": [
        "# Подключение библиотек"
      ],
      "metadata": {
        "id": "Wtobes5bDXFn"
      }
    },
    {
      "cell_type": "code",
      "execution_count": null,
      "metadata": {
        "id": "dcOX-0QaCb6A"
      },
      "outputs": [],
      "source": [
        "import os\n",
        "import datetime\n",
        "\n",
        "import IPython\n",
        "import IPython.display\n",
        "import matplotlib as mpl\n",
        "import matplotlib.pyplot as plt\n",
        "import numpy as np\n",
        "import pandas as pd\n",
        "import seaborn as sns\n",
        "import tensorflow as tf\n",
        "\n",
        "mpl.rcParams['figure.figsize'] = (8, 6)\n",
        "mpl.rcParams['axes.grid'] = False"
      ]
    },
    {
      "cell_type": "markdown",
      "source": [
        "# Получение данных"
      ],
      "metadata": {
        "id": "st5b2T3rDxNE"
      }
    },
    {
      "cell_type": "code",
      "source": [
        "reverse_df = pd.read_csv('/content/drive/MyDrive/Python_for_Finance/Data/SiM2_Data.csv', index_col=0, parse_dates=False)"
      ],
      "metadata": {
        "id": "di0oJKzGk4co"
      },
      "execution_count": null,
      "outputs": []
    },
    {
      "cell_type": "code",
      "source": [
        "reverse_df.info() # сводная информация о данных"
      ],
      "metadata": {
        "colab": {
          "base_uri": "https://localhost:8080/"
        },
        "id": "3Tqz_vk69esB",
        "outputId": "52fb8180-01c7-49c0-8a70-b544b113ee87"
      },
      "execution_count": null,
      "outputs": [
        {
          "output_type": "stream",
          "name": "stdout",
          "text": [
            "<class 'pandas.core.frame.DataFrame'>\n",
            "Index: 3048 entries, 2022-5-13 to 2021-11-24\n",
            "Data columns (total 6 columns):\n",
            " #   Column  Non-Null Count  Dtype  \n",
            "---  ------  --------------  -----  \n",
            " 0   Time    3048 non-null   object \n",
            " 1   Open    3048 non-null   float64\n",
            " 2   High    3048 non-null   float64\n",
            " 3   Low     3048 non-null   float64\n",
            " 4   Close   3048 non-null   float64\n",
            " 5   Volume  3048 non-null   float64\n",
            "dtypes: float64(5), object(1)\n",
            "memory usage: 166.7+ KB\n"
          ]
        }
      ]
    },
    {
      "cell_type": "markdown",
      "source": [
        "1. Подготовить данные аналогично SiH2_RNN_23.03.2022.ipynb\n",
        "2. Модель построить аналогично\n",
        "https://www.tensorflow.org/tutorials/structured_data/time_series"
      ],
      "metadata": {
        "id": "dkTOLM0RFf_W"
      }
    }
  ]
}